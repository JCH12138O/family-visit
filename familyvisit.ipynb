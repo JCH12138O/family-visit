{
 "cells": [
  {
   "cell_type": "markdown",
   "metadata": {},
   "source": [
    "# Family visit research for Chinese students"
   ]
  },
  {
   "cell_type": "markdown",
   "metadata": {},
   "source": [
    " Most of Chinese students during their graduation ceremony are facing a problem -- Their family (mostly parents) would like to attend the ceremony, but they usually face some incapable problems:<br/> \n",
    "1) Complex international travel related tasks in a foreign language <br/>\n",
    "2) Housing <br/>\n",
    "3) Tour route selection <br/>\n",
    "4) Transportation <br/>\n",
    "5) Students love to give their parents a comfortable travel experience, but they are inexperienced or too busy for it. <br/>\n",
    "Based on that, I developed a research survey to understand their need and potential in this market."
   ]
  },
  {
   "cell_type": "code",
   "execution_count": 1,
   "metadata": {},
   "outputs": [],
   "source": [
    "import pandas as pd\n",
    "from matplotlib import pyplot as plt\n",
    "from scipy.cluster.hierarchy import dendrogram, linkage\n",
    "from sklearn import preprocessing\n",
    "import numpy as np\n",
    "\n",
    "%matplotlib inline\n",
    "np.set_printoptions(precision=5, suppress=True)"
   ]
  },
  {
   "cell_type": "markdown",
   "metadata": {},
   "source": [
    "## Read and clean data"
   ]
  },
  {
   "cell_type": "markdown",
   "metadata": {},
   "source": [
    "The purpose of this project is to identity all students that has a need for family visit. After selection, all data selected from rawdata show 'yes' in Q1 (Do you have need for family visit), then delete column Q1"
   ]
  },
  {
   "attachments": {},
   "cell_type": "markdown",
   "metadata": {},
   "source": [
    "Each column representing:<br/>\n",
    "#### Q2: Gender - female as 0, male as 1 (int)\n",
    "#### Q3: Education: Undergrad; Grad (str)\n",
    "#### Q4: Age Range: 18-25; 26-33; 34 and above (str)\n",
    "#### Q5: Job Status: already have a job; found a job but not start yet; currently looking for jobs (str)\n",
    "#### Q6: Daily Free Hours (int)\n",
    "#### Q7: Travel interval: 1 to 2 weeks; 2 weeks to 1 month; more than 1 month (str)\n",
    "#### Q8: Travel Budget (int)\n",
    "#### Q9: Purpose: travel; accompany (int)\n",
    "#### Q10: Need for visa help from 1 to 7 (int)\n",
    "#### Q11: Need for daily transpotation from 1 to 7 (int)\n",
    "#### Q12: Need for housing from 1 to 7 (int)\n",
    "#### Q13: Need for international insurance from 1 to 7 (int)\n",
    "#### Q14: Need for tour arrangement from 1 to 7 (int)"
   ]
  },
  {
   "cell_type": "code",
   "execution_count": 2,
   "metadata": {
    "scrolled": false
   },
   "outputs": [
    {
     "name": "stdout",
     "output_type": "stream",
     "text": [
      "This dataset contains 99 rows of data and 15 columns\n"
     ]
    },
    {
     "data": {
      "text/html": [
       "<div>\n",
       "<style scoped>\n",
       "    .dataframe tbody tr th:only-of-type {\n",
       "        vertical-align: middle;\n",
       "    }\n",
       "\n",
       "    .dataframe tbody tr th {\n",
       "        vertical-align: top;\n",
       "    }\n",
       "\n",
       "    .dataframe thead th {\n",
       "        text-align: right;\n",
       "    }\n",
       "</style>\n",
       "<table border=\"1\" class=\"dataframe\">\n",
       "  <thead>\n",
       "    <tr style=\"text-align: right;\">\n",
       "      <th></th>\n",
       "      <th>q2</th>\n",
       "      <th>q3</th>\n",
       "      <th>q4</th>\n",
       "      <th>q5</th>\n",
       "      <th>q6</th>\n",
       "      <th>q7</th>\n",
       "      <th>q8</th>\n",
       "      <th>q9</th>\n",
       "      <th>q10</th>\n",
       "      <th>q11</th>\n",
       "      <th>q12</th>\n",
       "      <th>q13</th>\n",
       "      <th>q14</th>\n",
       "      <th>q15</th>\n",
       "      <th>do you prefer package service for parent visit?\\r</th>\n",
       "    </tr>\n",
       "  </thead>\n",
       "  <tbody>\n",
       "    <tr>\n",
       "      <th>0</th>\n",
       "      <td>0</td>\n",
       "      <td>graduate</td>\n",
       "      <td>26-33</td>\n",
       "      <td>currently looking for jobs</td>\n",
       "      <td>3</td>\n",
       "      <td>2 weeks to 1 month</td>\n",
       "      <td>7000</td>\n",
       "      <td>travel</td>\n",
       "      <td>1</td>\n",
       "      <td>4</td>\n",
       "      <td>6</td>\n",
       "      <td>1</td>\n",
       "      <td>6</td>\n",
       "      <td>None</td>\n",
       "      <td>0</td>\n",
       "    </tr>\n",
       "    <tr>\n",
       "      <th>1</th>\n",
       "      <td>1</td>\n",
       "      <td>graduate</td>\n",
       "      <td>26-33</td>\n",
       "      <td>found a job but not start yet</td>\n",
       "      <td>18</td>\n",
       "      <td>more than 1 month</td>\n",
       "      <td>10000</td>\n",
       "      <td>accompany</td>\n",
       "      <td>2</td>\n",
       "      <td>6</td>\n",
       "      <td>1</td>\n",
       "      <td>4</td>\n",
       "      <td>6</td>\n",
       "      <td>None</td>\n",
       "      <td>0</td>\n",
       "    </tr>\n",
       "    <tr>\n",
       "      <th>2</th>\n",
       "      <td>1</td>\n",
       "      <td>graduate</td>\n",
       "      <td>18-25</td>\n",
       "      <td>already have a job</td>\n",
       "      <td>16</td>\n",
       "      <td>1 to 2 weeks</td>\n",
       "      <td>3000</td>\n",
       "      <td>travel</td>\n",
       "      <td>7</td>\n",
       "      <td>7</td>\n",
       "      <td>3</td>\n",
       "      <td>3</td>\n",
       "      <td>7</td>\n",
       "      <td>NaN</td>\n",
       "      <td>0</td>\n",
       "    </tr>\n",
       "    <tr>\n",
       "      <th>3</th>\n",
       "      <td>1</td>\n",
       "      <td>graduate</td>\n",
       "      <td>18-25</td>\n",
       "      <td>currently looking for jobs</td>\n",
       "      <td>20</td>\n",
       "      <td>2 weeks to 1 month</td>\n",
       "      <td>5000</td>\n",
       "      <td>travel</td>\n",
       "      <td>7</td>\n",
       "      <td>7</td>\n",
       "      <td>7</td>\n",
       "      <td>4</td>\n",
       "      <td>7</td>\n",
       "      <td>transpotation</td>\n",
       "      <td>1</td>\n",
       "    </tr>\n",
       "    <tr>\n",
       "      <th>4</th>\n",
       "      <td>1</td>\n",
       "      <td>graduate</td>\n",
       "      <td>18-25</td>\n",
       "      <td>already have a job</td>\n",
       "      <td>2</td>\n",
       "      <td>1 to 2 weeks</td>\n",
       "      <td>5000</td>\n",
       "      <td>accompany</td>\n",
       "      <td>7</td>\n",
       "      <td>7</td>\n",
       "      <td>6</td>\n",
       "      <td>4</td>\n",
       "      <td>7</td>\n",
       "      <td>translation guide</td>\n",
       "      <td>0</td>\n",
       "    </tr>\n",
       "    <tr>\n",
       "      <th>5</th>\n",
       "      <td>0</td>\n",
       "      <td>graduate</td>\n",
       "      <td>26-33</td>\n",
       "      <td>currently looking for jobs</td>\n",
       "      <td>5</td>\n",
       "      <td>1 to 2 weeks</td>\n",
       "      <td>10000</td>\n",
       "      <td>travel</td>\n",
       "      <td>1</td>\n",
       "      <td>5</td>\n",
       "      <td>7</td>\n",
       "      <td>1</td>\n",
       "      <td>7</td>\n",
       "      <td>no</td>\n",
       "      <td>1</td>\n",
       "    </tr>\n",
       "    <tr>\n",
       "      <th>6</th>\n",
       "      <td>0</td>\n",
       "      <td>graduate</td>\n",
       "      <td>18-25</td>\n",
       "      <td>found a job but not start yet</td>\n",
       "      <td>10</td>\n",
       "      <td>1 to 2 weeks</td>\n",
       "      <td>1000</td>\n",
       "      <td>accompany</td>\n",
       "      <td>5</td>\n",
       "      <td>5</td>\n",
       "      <td>5</td>\n",
       "      <td>5</td>\n",
       "      <td>5</td>\n",
       "      <td>None</td>\n",
       "      <td>0</td>\n",
       "    </tr>\n",
       "    <tr>\n",
       "      <th>7</th>\n",
       "      <td>1</td>\n",
       "      <td>graduate</td>\n",
       "      <td>26-33</td>\n",
       "      <td>currently looking for jobs</td>\n",
       "      <td>14</td>\n",
       "      <td>more than 1 month</td>\n",
       "      <td>10000</td>\n",
       "      <td>accompany</td>\n",
       "      <td>6</td>\n",
       "      <td>3</td>\n",
       "      <td>1</td>\n",
       "      <td>1</td>\n",
       "      <td>5</td>\n",
       "      <td>None</td>\n",
       "      <td>0</td>\n",
       "    </tr>\n",
       "    <tr>\n",
       "      <th>8</th>\n",
       "      <td>1</td>\n",
       "      <td>graduate</td>\n",
       "      <td>18-25</td>\n",
       "      <td>currently looking for jobs</td>\n",
       "      <td>20</td>\n",
       "      <td>1 to 2 weeks</td>\n",
       "      <td>10000</td>\n",
       "      <td>travel</td>\n",
       "      <td>2</td>\n",
       "      <td>2</td>\n",
       "      <td>5</td>\n",
       "      <td>5</td>\n",
       "      <td>2</td>\n",
       "      <td>None</td>\n",
       "      <td>0</td>\n",
       "    </tr>\n",
       "    <tr>\n",
       "      <th>9</th>\n",
       "      <td>0</td>\n",
       "      <td>graduate</td>\n",
       "      <td>18-25</td>\n",
       "      <td>currently looking for jobs</td>\n",
       "      <td>10</td>\n",
       "      <td>2 weeks to 1 month</td>\n",
       "      <td>10000</td>\n",
       "      <td>accompany</td>\n",
       "      <td>4</td>\n",
       "      <td>4</td>\n",
       "      <td>4</td>\n",
       "      <td>4</td>\n",
       "      <td>4</td>\n",
       "      <td>None</td>\n",
       "      <td>0</td>\n",
       "    </tr>\n",
       "  </tbody>\n",
       "</table>\n",
       "</div>"
      ],
      "text/plain": [
       "   q2        q3     q4                             q5  q6                  q7  \\\n",
       "0   0  graduate  26-33     currently looking for jobs   3  2 weeks to 1 month   \n",
       "1   1  graduate  26-33  found a job but not start yet  18   more than 1 month   \n",
       "2   1  graduate  18-25             already have a job  16        1 to 2 weeks   \n",
       "3   1  graduate  18-25     currently looking for jobs  20  2 weeks to 1 month   \n",
       "4   1  graduate  18-25             already have a job   2        1 to 2 weeks   \n",
       "5   0  graduate  26-33     currently looking for jobs   5        1 to 2 weeks   \n",
       "6   0  graduate  18-25  found a job but not start yet  10        1 to 2 weeks   \n",
       "7   1  graduate  26-33     currently looking for jobs  14   more than 1 month   \n",
       "8   1  graduate  18-25     currently looking for jobs  20        1 to 2 weeks   \n",
       "9   0  graduate  18-25     currently looking for jobs  10  2 weeks to 1 month   \n",
       "\n",
       "      q8         q9  q10  q11  q12  q13  q14                q15  \\\n",
       "0   7000     travel    1    4    6    1    6               None   \n",
       "1  10000  accompany    2    6    1    4    6               None   \n",
       "2   3000     travel    7    7    3    3    7                NaN   \n",
       "3   5000     travel    7    7    7    4    7      transpotation   \n",
       "4   5000  accompany    7    7    6    4    7  translation guide   \n",
       "5  10000     travel    1    5    7    1    7                 no   \n",
       "6   1000  accompany    5    5    5    5    5               None   \n",
       "7  10000  accompany    6    3    1    1    5               None   \n",
       "8  10000     travel    2    2    5    5    2               None   \n",
       "9  10000  accompany    4    4    4    4    4               None   \n",
       "\n",
       "   do you prefer package service for parent visit?\\r  \n",
       "0                                                  0  \n",
       "1                                                  0  \n",
       "2                                                  0  \n",
       "3                                                  1  \n",
       "4                                                  0  \n",
       "5                                                  1  \n",
       "6                                                  0  \n",
       "7                                                  0  \n",
       "8                                                  0  \n",
       "9                                                  0  "
      ]
     },
     "execution_count": 2,
     "metadata": {},
     "output_type": "execute_result"
    }
   ],
   "source": [
    "data = pd.read_csv('rdata.csv',encoding=\"ISO-8859-1\")\n",
    "data = data.drop(columns ='q1')\n",
    "print('This dataset contains',data.shape[0],'rows of data and',data.shape[1],'columns')\n",
    "data.head(10)"
   ]
  },
  {
   "cell_type": "markdown",
   "metadata": {},
   "source": [
    "If Q8 (travel budget) value is not None, convert value to integer type (for further calculation of average budget)"
   ]
  },
  {
   "cell_type": "code",
   "execution_count": 3,
   "metadata": {},
   "outputs": [],
   "source": [
    "def str_to_int(df):\n",
    "    if df['q8']!='None':\n",
    "        return int(df['q8'])\n",
    "    else:\n",
    "        return 'None'\n",
    "data['q8'] = data.apply(lambda r: str_to_int(r),axis = 1)"
   ]
  },
  {
   "cell_type": "markdown",
   "metadata": {},
   "source": [
    "## Fill missing value in q8"
   ]
  },
  {
   "cell_type": "markdown",
   "metadata": {},
   "source": [
    "For values under Q8 that is None, these missing values are assigned with average budget of others"
   ]
  },
  {
   "cell_type": "code",
   "execution_count": 4,
   "metadata": {},
   "outputs": [],
   "source": [
    "def assign_na(df):\n",
    "    ave_budget = int(data.loc[data['q8']!='None']['q8'].mean())\n",
    "    if df['q8'] == 'None':\n",
    "        return ave_budget\n",
    "    else:\n",
    "        return df['q8']\n",
    "data['q8'] = data.apply(lambda r: assign_na(r),axis=1)"
   ]
  },
  {
   "cell_type": "markdown",
   "metadata": {},
   "source": [
    "## Dummy coding catagorical variables : Q3, Q4, Q5, Q7, Q9"
   ]
  },
  {
   "cell_type": "markdown",
   "metadata": {},
   "source": [
    "Q3,Q4,Q5,Q7,Q9 is categorical variable, representing: Education, Age, Job status, Length of planing visit, Purpose of visit"
   ]
  },
  {
   "cell_type": "markdown",
   "metadata": {},
   "source": [
    "They are actually ordinal categorical variables, with internal order and logic inside, so seperately dummy coding it with ascending number"
   ]
  },
  {
   "cell_type": "code",
   "execution_count": 5,
   "metadata": {},
   "outputs": [
    {
     "data": {
      "text/html": [
       "<div>\n",
       "<style scoped>\n",
       "    .dataframe tbody tr th:only-of-type {\n",
       "        vertical-align: middle;\n",
       "    }\n",
       "\n",
       "    .dataframe tbody tr th {\n",
       "        vertical-align: top;\n",
       "    }\n",
       "\n",
       "    .dataframe thead th {\n",
       "        text-align: right;\n",
       "    }\n",
       "</style>\n",
       "<table border=\"1\" class=\"dataframe\">\n",
       "  <thead>\n",
       "    <tr style=\"text-align: right;\">\n",
       "      <th></th>\n",
       "      <th>q2</th>\n",
       "      <th>q3</th>\n",
       "      <th>q4</th>\n",
       "      <th>q5</th>\n",
       "      <th>q6</th>\n",
       "      <th>q7</th>\n",
       "      <th>q8</th>\n",
       "      <th>q9</th>\n",
       "      <th>q10</th>\n",
       "      <th>q11</th>\n",
       "      <th>q12</th>\n",
       "      <th>q13</th>\n",
       "      <th>q14</th>\n",
       "      <th>q15</th>\n",
       "      <th>do you prefer package service for parent visit?\\r</th>\n",
       "    </tr>\n",
       "  </thead>\n",
       "  <tbody>\n",
       "    <tr>\n",
       "      <th>0</th>\n",
       "      <td>0</td>\n",
       "      <td>1</td>\n",
       "      <td>1</td>\n",
       "      <td>0</td>\n",
       "      <td>3</td>\n",
       "      <td>1</td>\n",
       "      <td>7000</td>\n",
       "      <td>0</td>\n",
       "      <td>1</td>\n",
       "      <td>4</td>\n",
       "      <td>6</td>\n",
       "      <td>1</td>\n",
       "      <td>6</td>\n",
       "      <td>None</td>\n",
       "      <td>0</td>\n",
       "    </tr>\n",
       "    <tr>\n",
       "      <th>1</th>\n",
       "      <td>1</td>\n",
       "      <td>1</td>\n",
       "      <td>1</td>\n",
       "      <td>1</td>\n",
       "      <td>18</td>\n",
       "      <td>2</td>\n",
       "      <td>10000</td>\n",
       "      <td>1</td>\n",
       "      <td>2</td>\n",
       "      <td>6</td>\n",
       "      <td>1</td>\n",
       "      <td>4</td>\n",
       "      <td>6</td>\n",
       "      <td>None</td>\n",
       "      <td>0</td>\n",
       "    </tr>\n",
       "    <tr>\n",
       "      <th>2</th>\n",
       "      <td>1</td>\n",
       "      <td>1</td>\n",
       "      <td>0</td>\n",
       "      <td>2</td>\n",
       "      <td>16</td>\n",
       "      <td>0</td>\n",
       "      <td>3000</td>\n",
       "      <td>0</td>\n",
       "      <td>7</td>\n",
       "      <td>7</td>\n",
       "      <td>3</td>\n",
       "      <td>3</td>\n",
       "      <td>7</td>\n",
       "      <td>NaN</td>\n",
       "      <td>0</td>\n",
       "    </tr>\n",
       "    <tr>\n",
       "      <th>3</th>\n",
       "      <td>1</td>\n",
       "      <td>1</td>\n",
       "      <td>0</td>\n",
       "      <td>0</td>\n",
       "      <td>20</td>\n",
       "      <td>1</td>\n",
       "      <td>5000</td>\n",
       "      <td>0</td>\n",
       "      <td>7</td>\n",
       "      <td>7</td>\n",
       "      <td>7</td>\n",
       "      <td>4</td>\n",
       "      <td>7</td>\n",
       "      <td>transpotation</td>\n",
       "      <td>1</td>\n",
       "    </tr>\n",
       "    <tr>\n",
       "      <th>4</th>\n",
       "      <td>1</td>\n",
       "      <td>1</td>\n",
       "      <td>0</td>\n",
       "      <td>2</td>\n",
       "      <td>2</td>\n",
       "      <td>0</td>\n",
       "      <td>5000</td>\n",
       "      <td>1</td>\n",
       "      <td>7</td>\n",
       "      <td>7</td>\n",
       "      <td>6</td>\n",
       "      <td>4</td>\n",
       "      <td>7</td>\n",
       "      <td>translation guide</td>\n",
       "      <td>0</td>\n",
       "    </tr>\n",
       "    <tr>\n",
       "      <th>5</th>\n",
       "      <td>0</td>\n",
       "      <td>1</td>\n",
       "      <td>1</td>\n",
       "      <td>0</td>\n",
       "      <td>5</td>\n",
       "      <td>0</td>\n",
       "      <td>10000</td>\n",
       "      <td>0</td>\n",
       "      <td>1</td>\n",
       "      <td>5</td>\n",
       "      <td>7</td>\n",
       "      <td>1</td>\n",
       "      <td>7</td>\n",
       "      <td>no</td>\n",
       "      <td>1</td>\n",
       "    </tr>\n",
       "    <tr>\n",
       "      <th>6</th>\n",
       "      <td>0</td>\n",
       "      <td>1</td>\n",
       "      <td>0</td>\n",
       "      <td>1</td>\n",
       "      <td>10</td>\n",
       "      <td>0</td>\n",
       "      <td>1000</td>\n",
       "      <td>1</td>\n",
       "      <td>5</td>\n",
       "      <td>5</td>\n",
       "      <td>5</td>\n",
       "      <td>5</td>\n",
       "      <td>5</td>\n",
       "      <td>None</td>\n",
       "      <td>0</td>\n",
       "    </tr>\n",
       "    <tr>\n",
       "      <th>7</th>\n",
       "      <td>1</td>\n",
       "      <td>1</td>\n",
       "      <td>1</td>\n",
       "      <td>0</td>\n",
       "      <td>14</td>\n",
       "      <td>2</td>\n",
       "      <td>10000</td>\n",
       "      <td>1</td>\n",
       "      <td>6</td>\n",
       "      <td>3</td>\n",
       "      <td>1</td>\n",
       "      <td>1</td>\n",
       "      <td>5</td>\n",
       "      <td>None</td>\n",
       "      <td>0</td>\n",
       "    </tr>\n",
       "    <tr>\n",
       "      <th>8</th>\n",
       "      <td>1</td>\n",
       "      <td>1</td>\n",
       "      <td>0</td>\n",
       "      <td>0</td>\n",
       "      <td>20</td>\n",
       "      <td>0</td>\n",
       "      <td>10000</td>\n",
       "      <td>0</td>\n",
       "      <td>2</td>\n",
       "      <td>2</td>\n",
       "      <td>5</td>\n",
       "      <td>5</td>\n",
       "      <td>2</td>\n",
       "      <td>None</td>\n",
       "      <td>0</td>\n",
       "    </tr>\n",
       "    <tr>\n",
       "      <th>9</th>\n",
       "      <td>0</td>\n",
       "      <td>1</td>\n",
       "      <td>0</td>\n",
       "      <td>0</td>\n",
       "      <td>10</td>\n",
       "      <td>1</td>\n",
       "      <td>10000</td>\n",
       "      <td>1</td>\n",
       "      <td>4</td>\n",
       "      <td>4</td>\n",
       "      <td>4</td>\n",
       "      <td>4</td>\n",
       "      <td>4</td>\n",
       "      <td>None</td>\n",
       "      <td>0</td>\n",
       "    </tr>\n",
       "  </tbody>\n",
       "</table>\n",
       "</div>"
      ],
      "text/plain": [
       "   q2  q3  q4  q5  q6  q7     q8  q9  q10  q11  q12  q13  q14  \\\n",
       "0   0   1   1   0   3   1   7000   0    1    4    6    1    6   \n",
       "1   1   1   1   1  18   2  10000   1    2    6    1    4    6   \n",
       "2   1   1   0   2  16   0   3000   0    7    7    3    3    7   \n",
       "3   1   1   0   0  20   1   5000   0    7    7    7    4    7   \n",
       "4   1   1   0   2   2   0   5000   1    7    7    6    4    7   \n",
       "5   0   1   1   0   5   0  10000   0    1    5    7    1    7   \n",
       "6   0   1   0   1  10   0   1000   1    5    5    5    5    5   \n",
       "7   1   1   1   0  14   2  10000   1    6    3    1    1    5   \n",
       "8   1   1   0   0  20   0  10000   0    2    2    5    5    2   \n",
       "9   0   1   0   0  10   1  10000   1    4    4    4    4    4   \n",
       "\n",
       "                 q15  do you prefer package service for parent visit?\\r  \n",
       "0               None                                                  0  \n",
       "1               None                                                  0  \n",
       "2                NaN                                                  0  \n",
       "3      transpotation                                                  1  \n",
       "4  translation guide                                                  0  \n",
       "5                 no                                                  1  \n",
       "6               None                                                  0  \n",
       "7               None                                                  0  \n",
       "8               None                                                  0  \n",
       "9               None                                                  0  "
      ]
     },
     "execution_count": 5,
     "metadata": {},
     "output_type": "execute_result"
    }
   ],
   "source": [
    "data['q3'] = data['q3'].apply(lambda x:0 if x == 'undergrad' else 1 )\n",
    "data['q4'] = data['q4'].apply(lambda x:0 if x == '18-25' else( 1 if x == '26-33' else 2))\n",
    "\n",
    "data['q5'] = data['q5'].apply(lambda x:0 if x == 'currently looking for jobs'else (1 if x == 'found a job but not start yet' else 2))\n",
    "\n",
    "data['q7'] = data['q7'].apply(lambda x:1 if x == '2 weeks to 1 month' else (0 if x == '1 to 2 weeks' else 2))\n",
    "data['q9'] = data['q9'].apply(lambda x:0 if x == 'travel' else 1 )\n",
    "data.head(10)"
   ]
  },
  {
   "cell_type": "markdown",
   "metadata": {},
   "source": [
    "## Standardlize variables"
   ]
  },
  {
   "cell_type": "markdown",
   "metadata": {},
   "source": [
    "Before clustering, we can see Q8 and Q6 may have larger standard deviation or range then other, so need to srandardlize them first"
   ]
  },
  {
   "cell_type": "code",
   "execution_count": 6,
   "metadata": {},
   "outputs": [],
   "source": [
    "data = data.drop(columns = ['q15'])\n",
    "data2 = data\n",
    "t = preprocessing.StandardScaler().fit(data2)\n",
    "data2 = t.transform(data2)"
   ]
  },
  {
   "cell_type": "markdown",
   "metadata": {},
   "source": [
    "## Hierarchal clustering (ward method)"
   ]
  },
  {
   "cell_type": "markdown",
   "metadata": {},
   "source": [
    "For hierarchal clustering, after trying various method for distance calculation, Ward method shows good ability to seperate groups"
   ]
  },
  {
   "cell_type": "code",
   "execution_count": 7,
   "metadata": {},
   "outputs": [],
   "source": [
    "Z = linkage(data2,'ward')\n",
    "from scipy.cluster.hierarchy import cophenet\n",
    "from scipy.spatial.distance import pdist\n",
    "c, coph_dists = cophenet(Z, pdist(data2))"
   ]
  },
  {
   "cell_type": "markdown",
   "metadata": {},
   "source": [
    "## Dendrogram "
   ]
  },
  {
   "cell_type": "markdown",
   "metadata": {},
   "source": [
    "From the dendrogram we can see: setting distance threshold to 15, there are clearly three clusters"
   ]
  },
  {
   "cell_type": "code",
   "execution_count": 8,
   "metadata": {},
   "outputs": [
    {
     "data": {
      "image/png": "[encoded data removed]",
      "text/plain": [
       "<Figure size 720x720 with 1 Axes>"
      ]
     },
     "metadata": {
      "needs_background": "light"
     },
     "output_type": "display_data"
    }
   ],
   "source": [
    "plt.figure(figsize=(10, 10))\n",
    "plt.title('Hierarchical Clustering Dendrogram (truncated)')\n",
    "plt.xlabel('sample index')\n",
    "plt.ylabel('distance')\n",
    "dendrogram(Z, truncate_mode='lastp', p=30, show_leaf_counts=False, leaf_rotation=90., leaf_font_size=12., show_contracted=True)\n",
    "plt.show()"
   ]
  },
  {
   "cell_type": "code",
   "execution_count": 9,
   "metadata": {},
   "outputs": [],
   "source": [
    "def fancy_dendrogram(*args, **kwargs):\n",
    "    max_d = kwargs.pop('max_d', None)\n",
    "    if max_d and 'color_threshold' not in kwargs:\n",
    "        kwargs['color_threshold'] = max_d\n",
    "    annotate_above = kwargs.pop('annotate_above', 0)\n",
    "\n",
    "    ddata = dendrogram(*args, **kwargs)\n",
    "\n",
    "    if not kwargs.get('no_plot', False):\n",
    "        plt.title('Hierarchical Clustering Dendrogram (truncated)')\n",
    "        plt.xlabel('sample index or (cluster size)')\n",
    "        plt.ylabel('distance')\n",
    "        for i, d, c in zip(ddata['icoord'], ddata['dcoord'], ddata['color_list']):\n",
    "            x = 0.5 * sum(i[1:3])\n",
    "            y = d[1]\n",
    "            if y > annotate_above:\n",
    "                plt.plot(x, y, 'o', c=c)\n",
    "                plt.annotate(\"%.3g\" % y, (x, y), xytext=(0, -5), textcoords='offset points', va='top', ha='center')\n",
    "        if max_d:\n",
    "            plt.axhline(y=max_d, c='k')\n",
    "    return ddata"
   ]
  },
  {
   "cell_type": "markdown",
   "metadata": {},
   "source": [
    "## Set distance threshold to 15, got 3 clusters"
   ]
  },
  {
   "cell_type": "code",
   "execution_count": 10,
   "metadata": {},
   "outputs": [
    {
     "data": {
      "image/png": "[encoded data removed]",
      "text/plain": [
       "<Figure size 720x720 with 1 Axes>"
      ]
     },
     "metadata": {
      "needs_background": "light"
     },
     "output_type": "display_data"
    }
   ],
   "source": [
    "plt.figure(figsize = (10,10))\n",
    "max_d = 15\n",
    "fancy_dendrogram(Z, truncate_mode='lastp', p=12, leaf_rotation=90., leaf_font_size=12., show_contracted=True, annotate_above=10, max_d=max_d)\n",
    "plt.show()"
   ]
  },
  {
   "cell_type": "code",
   "execution_count": 11,
   "metadata": {},
   "outputs": [],
   "source": [
    "from scipy.cluster.hierarchy import fcluster\n",
    "max_d = 15\n",
    "clusters = fcluster(Z, max_d, criterion='distance')"
   ]
  },
  {
   "cell_type": "markdown",
   "metadata": {},
   "source": [
    "After assign labels back to data, we can see the attributes' mean of each clusters"
   ]
  },
  {
   "cell_type": "code",
   "execution_count": 12,
   "metadata": {},
   "outputs": [
    {
     "name": "stdout",
     "output_type": "stream",
     "text": [
      "               q2        q3        q4        q5         q6        q7  \\\n",
      "cluster                                                                \n",
      "1        0.810811  0.648649  0.243243  0.567568   9.783784  1.054054   \n",
      "2        0.478261  0.956522  0.413043  0.456522   6.847826  0.478261   \n",
      "3        0.875000  0.562500  0.375000  0.000000  16.500000  0.812500   \n",
      "\n",
      "                   q8        q9       q10       q11       q12       q13  \\\n",
      "cluster                                                                   \n",
      "1        16705.945946  0.459459  3.216216  3.027027  2.810811  2.675676   \n",
      "2         9251.304348  0.543478  5.021739  5.891304  5.391304  3.695652   \n",
      "3        44785.000000  0.312500  7.125000  6.875000  6.750000  5.875000   \n",
      "\n",
      "              q14  do you prefer package service for parent visit?\\r  \n",
      "cluster                                                               \n",
      "1        3.405405                                           0.000000  \n",
      "2        6.021739                                           0.304348  \n",
      "3        6.937500                                           0.812500  \n"
     ]
    }
   ],
   "source": [
    "data['cluster'] = clusters\n",
    "groups = data.groupby('cluster').mean()\n",
    "print(groups)"
   ]
  },
  {
   "cell_type": "markdown",
   "metadata": {},
   "source": [
    "### Based on meaning of each variable, we got group portrait of each clusters:###\n",
    "<br>\n",
    "Cluster-1: mostly undergrad students, age from 18-25, most of them already got a job with less free hours. They mostly have high travel budget, both have low needs of all kinds of services.  \n",
    "<br>\n",
    "   Cluster-2: most graduate students, age around 25, got a job but not enrolled. they have time, with lower budget. They show common need for all services.\n",
    "<br>\n",
    "   Cluster-3: male, graduate students, age around 25, still lookiing for jobs. They have more free time and longer travel interval, high budget for travel purpose. they  have high need for all services."
   ]
  },
  {
   "cell_type": "markdown",
   "metadata": {},
   "source": [
    "### Radar chart for user portrait"
   ]
  },
  {
   "cell_type": "markdown",
   "metadata": {},
   "source": [
    "we can also visualize their characteristics in a Radar chart for better understanding"
   ]
  },
  {
   "cell_type": "markdown",
   "metadata": {},
   "source": [
    "we combine all needs questions from Q10 to Q14 into a variable \"service\" to make it clearer"
   ]
  },
  {
   "cell_type": "code",
   "execution_count": 13,
   "metadata": {},
   "outputs": [
    {
     "data": {
      "image/png": "[encoded data removed]",
      "text/plain": [
       "<Figure size 432x288 with 1 Axes>"
      ]
     },
     "metadata": {
      "needs_background": "light"
     },
     "output_type": "display_data"
    }
   ],
   "source": [
    "from math import pi\n",
    "groups.head(10)\n",
    "groups['service'] = (groups['q10']+groups['q11']+groups['q12']+groups['q13']+groups['q14'])/5\n",
    "groups = groups.drop(columns = ['q2','q10','q11','q12','q13','q14'])\n",
    "groups = groups.drop(columns = 'do you prefer package service for parent visit?\\r')\n",
    "catagory = groups.columns\n",
    "groups = groups.drop(columns = 'q9')\n",
    "t = preprocessing.StandardScaler().fit(groups)\n",
    "groups = t.transform(groups)\n",
    "groups = pd.DataFrame(groups)\n",
    "groups.columns = ['education','age','job','free time','travel interval','budget','need']\n",
    "cate = list(groups.columns)\n",
    "N = len(cate)\n",
    "values = groups.values.flatten().tolist()\n",
    "values1 = values[:7]\n",
    "values2 = values[7:14]\n",
    "values3 = values[14:]\n",
    "\n",
    "angles = np.linspace(0,2*pi,N,endpoint = False)\n",
    "values1=np.concatenate((values1,[values1[0]]))\n",
    "values2=np.concatenate((values2,[values2[0]]))\n",
    "values3=np.concatenate((values3,[values3[0]]))\n",
    "angles=np.concatenate((angles,[angles[0]]))\n",
    "\n",
    "fig=plt.figure()\n",
    "ax = fig.add_subplot(111, polar=True)\n",
    "ax.plot(angles, values1, 'o-', linewidth=2, label = 'Undergrad')\n",
    "ax.fill(angles, values1, alpha=0.25)\n",
    "ax.plot(angles, values2, 'o-', linewidth=2, label = 'Grad employed')\n",
    "ax.fill(angles, values2, alpha=0.25)\n",
    "ax.plot(angles, values3, 'o-', linewidth=2, label = 'Grad unemployed')\n",
    "ax.fill(angles, values3, alpha=0.25)\n",
    "ax.set_thetagrids(angles * 180/np.pi, cate)\n",
    "ax.set_ylim(-2,1.5)\n",
    "plt.title('Portrait for Different Groups')\n",
    "\n",
    "ax.grid(True)\n",
    "plt.legend(loc = 'lower left')\n",
    "plt.show()"
   ]
  },
  {
   "cell_type": "markdown",
   "metadata": {},
   "source": [
    "### From above we can see that:###"
   ]
  },
  {
   "cell_type": "markdown",
   "metadata": {},
   "source": [
    "Cluster 1 (shorten for Undergrad): <br/>\n",
    "    They are younger Chinese,they might not in charge of arrangement of their parents travel plan so they don't need to pay attention of any of these services or calculating budget. <br/>"
   ]
  },
  {
   "cell_type": "markdown",
   "metadata": {},
   "source": [
    "Cluster 2 (shorten for Grad employed): <br/>They mostly just graduate from master degree. They may already in a job or had an offer, means they are more rational, actionale and maybe good at planing. Their parents have a shorter travel interval, it makes them easier to handle the travel arrangment, so they shown a ambiguous attitude towards services. "
   ]
  },
  {
   "cell_type": "markdown",
   "metadata": {},
   "source": [
    "Cluster 3: (shorten for Grad unemployed): <br/>They mostly just graduated from master degree but still in job hunting, though they have more free time, looking for jobs may consume most of their time. They may in a dilemma or stressed, so they have higher budget and need for the services.  "
   ]
  },
  {
   "cell_type": "markdown",
   "metadata": {},
   "source": [
    "#### Conclusion: Cluster 3 could be a good potential group for the services assistance "
   ]
  }
 ],
 "metadata": {
  "kernelspec": {
   "display_name": "Python 3",
   "language": "python",
   "name": "python3"
  },
  "language_info": {
   "codemirror_mode": {
    "name": "ipython",
    "version": 3
   },
   "file_extension": ".py",
   "mimetype": "text/x-python",
   "name": "python",
   "nbconvert_exporter": "python",
   "pygments_lexer": "ipython3",
   "version": "3.7.6"
  }
 },
 "nbformat": 4,
 "nbformat_minor": 4
}
